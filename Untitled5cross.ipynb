{
 "cells": [
  {
   "cell_type": "code",
   "execution_count": 706,
   "metadata": {},
   "outputs": [],
   "source": [
    "import numpy as np\n",
    "import matplotlib.pyplot as plt\n",
    "import random\n",
    "from sklearn.preprocessing import scale\n",
    "import pandas as pd"
   ]
  },
  {
   "cell_type": "code",
   "execution_count": 707,
   "metadata": {},
   "outputs": [],
   "source": [
    "n=200\n",
    "random.seed(123)\n",
    "x = np.random.uniform(0,300,n)\n",
    "x = x[np.argsort(x)]\n",
    "y = 5 + x**1 + x**2 + x**3\n",
    "\n",
    "random.seed(123)\n",
    "y_obs = y + np.random.normal(0,900000,n)\n",
    "\n",
    "x_train = x[x < 200]\n",
    "x_test = x[x >= 200]\n",
    "\n",
    "y_train = y_obs[x < 200]\n",
    "y_test = y_obs[x >= 200]\n",
    "\n",
    "n_train = len(x_train)\n",
    "n_test = len(x_test)\n"
   ]
  },
  {
   "cell_type": "code",
   "execution_count": 708,
   "metadata": {},
   "outputs": [],
   "source": [
    "def poly(x):\n",
    "    n = len(x)\n",
    "    X = np.c_[np.ones(n),x,x**2,x**3,x**4,x**5,x**6]\n",
    "    return X\n"
   ]
  },
  {
   "cell_type": "code",
   "execution_count": 709,
   "metadata": {},
   "outputs": [],
   "source": [
    "x_test = poly(x_test)\n",
    "x_train = poly(x_train)"
   ]
  },
  {
   "cell_type": "code",
   "execution_count": 710,
   "metadata": {},
   "outputs": [],
   "source": [
    "def least_square(X, Y, lamda):\n",
    "    I = np.eye(7) \n",
    "    I[0,0] = 0  \n",
    "    theta = np.linalg.inv((X.T.dot(X) + lamda * I)).dot(X.T).dot(Y)\n",
    "    return theta "
   ]
  },
  {
   "cell_type": "code",
   "execution_count": 711,
   "metadata": {},
   "outputs": [],
   "source": [
    "testMSE = [] \n",
    "\n",
    "for lamda in [ 0.5, 10, 20, 30, 80, 100, 200]:\n",
    "    theta = least_square(x_test, y_test, lamda)\n",
    "    y_pred = theta[0]*x_test[:,0] + theta[1]*x_test[:,1] + theta[2]*x_test[:,2] + theta[3]*x_test[:,3] + theta[4]*x_test[:,4] + \\\n",
    "             theta[5]*x_test[:,5] + theta[6]*x_test[:,6] \n",
    "    MSE = 1/(2*n)*np.sum(y_test - y_pred)**2\n",
    "    testMSE.append(MSE)"
   ]
  },
  {
   "cell_type": "code",
   "execution_count": 712,
   "metadata": {},
   "outputs": [],
   "source": [
    "trainMSE = [] \n",
    "\n",
    "for lamda in [0.5, 10, 20, 30, 80, 100, 200]:\n",
    "    theta = least_square(x_train, y_train, lamda)\n",
    "    y_pred = theta[0]*x_train[:,0] + theta[1]*x_train[:,1] + theta[2]*x_train[:,2] + theta[3]*x_train[:,3] + theta[4]*x_train[:,4] + \\\n",
    "             theta[5]*x_train[:,5] + theta[6]*x_train[:,6]  \n",
    "    MSE = 1/(2*n)*np.sum(y_train - y_pred)**2\n",
    "    trainMSE.append(MSE)"
   ]
  },
  {
   "cell_type": "code",
   "execution_count": 713,
   "metadata": {},
   "outputs": [],
   "source": [
    "lamda = [0.5, 10, 20, 30, 80, 100, 200]\n",
    "trainMSE = scale(trainMSE)\n",
    "testMSE = scale(testMSE)\n",
    "lamda = scale(lamda)"
   ]
  },
  {
   "cell_type": "code",
   "execution_count": 714,
   "metadata": {},
   "outputs": [
    {
     "data": {
      "text/html": [
       "<div>\n",
       "<style scoped>\n",
       "    .dataframe tbody tr th:only-of-type {\n",
       "        vertical-align: middle;\n",
       "    }\n",
       "\n",
       "    .dataframe tbody tr th {\n",
       "        vertical-align: top;\n",
       "    }\n",
       "\n",
       "    .dataframe thead th {\n",
       "        text-align: right;\n",
       "    }\n",
       "</style>\n",
       "<table border=\"1\" class=\"dataframe\">\n",
       "  <thead>\n",
       "    <tr style=\"text-align: right;\">\n",
       "      <th></th>\n",
       "      <th>lamda</th>\n",
       "      <th>trainMSE</th>\n",
       "      <th>testMSE</th>\n",
       "    </tr>\n",
       "  </thead>\n",
       "  <tbody>\n",
       "    <tr>\n",
       "      <td>0</td>\n",
       "      <td>0.5</td>\n",
       "      <td>1.960299</td>\n",
       "      <td>2.403821</td>\n",
       "    </tr>\n",
       "    <tr>\n",
       "      <td>1</td>\n",
       "      <td>10.0</td>\n",
       "      <td>-1.118640</td>\n",
       "      <td>-0.520334</td>\n",
       "    </tr>\n",
       "    <tr>\n",
       "      <td>2</td>\n",
       "      <td>20.0</td>\n",
       "      <td>-0.347633</td>\n",
       "      <td>0.052865</td>\n",
       "    </tr>\n",
       "    <tr>\n",
       "      <td>3</td>\n",
       "      <td>30.0</td>\n",
       "      <td>0.491726</td>\n",
       "      <td>-0.423812</td>\n",
       "    </tr>\n",
       "    <tr>\n",
       "      <td>4</td>\n",
       "      <td>80.0</td>\n",
       "      <td>-1.130935</td>\n",
       "      <td>-0.530186</td>\n",
       "    </tr>\n",
       "    <tr>\n",
       "      <td>5</td>\n",
       "      <td>100.0</td>\n",
       "      <td>0.428734</td>\n",
       "      <td>-0.441789</td>\n",
       "    </tr>\n",
       "    <tr>\n",
       "      <td>6</td>\n",
       "      <td>200.0</td>\n",
       "      <td>-0.283551</td>\n",
       "      <td>-0.540564</td>\n",
       "    </tr>\n",
       "  </tbody>\n",
       "</table>\n",
       "</div>"
      ],
      "text/plain": [
       "   lamda  trainMSE   testMSE\n",
       "0    0.5  1.960299  2.403821\n",
       "1   10.0 -1.118640 -0.520334\n",
       "2   20.0 -0.347633  0.052865\n",
       "3   30.0  0.491726 -0.423812\n",
       "4   80.0 -1.130935 -0.530186\n",
       "5  100.0  0.428734 -0.441789\n",
       "6  200.0 -0.283551 -0.540564"
      ]
     },
     "execution_count": 714,
     "metadata": {},
     "output_type": "execute_result"
    }
   ],
   "source": [
    "table = {'lamda' :[0.5, 10, 20, 30, 80, 100, 200],\n",
    "                'trainMSE':trainMSE,\n",
    "                'testMSE':testMSE} \n",
    "\n",
    "tabledata = pd.DataFrame(table, columns = ['lamda','trainMSE', 'testMSE']) \n",
    "tabledata"
   ]
  },
  {
   "cell_type": "code",
   "execution_count": 715,
   "metadata": {},
   "outputs": [
    {
     "data": {
      "text/plain": [
       "2.4038211946675276"
      ]
     },
     "execution_count": 715,
     "metadata": {},
     "output_type": "execute_result"
    }
   ],
   "source": [
    "max(testMSE)"
   ]
  },
  {
   "cell_type": "code",
   "execution_count": 716,
   "metadata": {},
   "outputs": [
    {
     "data": {
      "text/plain": [
       "1.9602990915424539"
      ]
     },
     "execution_count": 716,
     "metadata": {},
     "output_type": "execute_result"
    }
   ],
   "source": [
    "max(trainMSE)"
   ]
  },
  {
   "cell_type": "code",
   "execution_count": 717,
   "metadata": {},
   "outputs": [
    {
     "data": {
      "text/plain": [
       "-1.130934929603224"
      ]
     },
     "execution_count": 717,
     "metadata": {},
     "output_type": "execute_result"
    }
   ],
   "source": [
    "min(trainMSE)"
   ]
  },
  {
   "cell_type": "code",
   "execution_count": 718,
   "metadata": {},
   "outputs": [
    {
     "data": {
      "text/plain": [
       "-0.5405636161104129"
      ]
     },
     "execution_count": 718,
     "metadata": {},
     "output_type": "execute_result"
    }
   ],
   "source": [
    "min(testMSE)"
   ]
  },
  {
   "cell_type": "code",
   "execution_count": 719,
   "metadata": {},
   "outputs": [],
   "source": [
    "#the value of lamda is 0.5"
   ]
  },
  {
   "cell_type": "code",
   "execution_count": 720,
   "metadata": {},
   "outputs": [
    {
     "data": {
      "image/png": "[encoded data removed]",
      "text/plain": [
       "<Figure size 432x288 with 1 Axes>"
      ]
     },
     "metadata": {
      "needs_background": "light"
     },
     "output_type": "display_data"
    }
   ],
   "source": [
    "plt.title('Regularised Polynomial Regression')\n",
    "plt.plot(trainMSE,label='train MSE')\n",
    "plt.plot(lamda, label= 'lamda')\n",
    "plt.plot(testMSE, label='test MSE')\n",
    "plt.xlabel('train and test MSe')\n",
    "plt.ylabel('lamda')\n",
    "plt.legend()\n",
    "plt.show()"
   ]
  },
  {
   "cell_type": "code",
   "execution_count": null,
   "metadata": {},
   "outputs": [],
   "source": []
  },
  {
   "cell_type": "code",
   "execution_count": null,
   "metadata": {},
   "outputs": [],
   "source": []
  },
  {
   "cell_type": "code",
   "execution_count": null,
   "metadata": {},
   "outputs": [],
   "source": []
  }
 ],
 "metadata": {
  "kernelspec": {
   "display_name": "Python 3",
   "language": "python",
   "name": "python3"
  },
  "language_info": {
   "codemirror_mode": {
    "name": "ipython",
    "version": 3
   },
   "file_extension": ".py",
   "mimetype": "text/x-python",
   "name": "python",
   "nbconvert_exporter": "python",
   "pygments_lexer": "ipython3",
   "version": "3.7.4"
  }
 },
 "nbformat": 4,
 "nbformat_minor": 2
}
